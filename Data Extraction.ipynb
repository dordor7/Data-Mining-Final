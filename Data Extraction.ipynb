{
  "nbformat": 4,
  "nbformat_minor": 0,
  "metadata": {
    "colab": {
      "provenance": [],
      "authorship_tag": "ABX9TyPkyp5Kq9SXYB7ksvXcIr7/"
    },
    "kernelspec": {
      "name": "python3",
      "display_name": "Python 3"
    },
    "language_info": {
      "name": "python"
    },
    "accelerator": "GPU",
    "gpuClass": "standard"
  },
  "cells": [
    {
      "cell_type": "code",
      "execution_count": null,
      "metadata": {
        "id": "eg58IH3e6Mg5",
        "colab": {
          "base_uri": "https://localhost:8080/"
        },
        "outputId": "0d75d394-71e3-4878-ac9b-4a78c90fea19"
      },
      "outputs": [
        {
          "output_type": "stream",
          "name": "stdout",
          "text": [
            "Drive already mounted at /content/gdrive; to attempt to forcibly remount, call drive.mount(\"/content/gdrive\", force_remount=True).\n"
          ]
        }
      ],
      "source": [
        "### Import Google Drive:\n",
        "from google.colab import drive\n",
        "drive.mount('/content/gdrive')"
      ]
    },
    {
      "cell_type": "code",
      "source": [
        "### Installs:\n",
        "!pip install wget\n",
        "!pip install humanfriendly jsonpickle # For MegaDetector"
      ],
      "metadata": {
        "colab": {
          "base_uri": "https://localhost:8080/"
        },
        "id": "NwioqcXm65ZU",
        "outputId": "5fc312b7-b139-478f-d62f-b0d42d18f974"
      },
      "execution_count": null,
      "outputs": [
        {
          "output_type": "stream",
          "name": "stdout",
          "text": [
            "Looking in indexes: https://pypi.org/simple, https://us-python.pkg.dev/colab-wheels/public/simple/\n",
            "Requirement already satisfied: wget in /usr/local/lib/python3.8/dist-packages (3.2)\n",
            "Looking in indexes: https://pypi.org/simple, https://us-python.pkg.dev/colab-wheels/public/simple/\n",
            "Requirement already satisfied: humanfriendly in /usr/local/lib/python3.8/dist-packages (10.0)\n",
            "Requirement already satisfied: jsonpickle in /usr/local/lib/python3.8/dist-packages (3.0.1)\n"
          ]
        }
      ]
    },
    {
      "cell_type": "code",
      "source": [
        "### Imports:\n",
        "import cv2\n",
        "import os\n",
        "import pandas as pd \n",
        "from datetime import datetime\n",
        "import matplotlib.pyplot as plt\n",
        "import numpy as np\n",
        "import wget\n",
        "import tensorflow as tf\n",
        "import json\n",
        "import torch\n",
        "import torchvision\n",
        "import math\n",
        "from sklearn.model_selection import train_test_split\n",
        "import torch.nn as nn\n",
        "from torchvision.transforms import transforms\n",
        "from torch.utils.data import Dataset, DataLoader\n",
        "from torchvision import models"
      ],
      "metadata": {
        "id": "GLYGBKAS65XF"
      },
      "execution_count": null,
      "outputs": []
    },
    {
      "cell_type": "code",
      "source": [
        "### CONSTANTS:\n",
        "BASE_PATH = \"/content/gdrive/MyDrive/Data_Mining/\"\n",
        "CLASSES = {0: 'empty', 1: 'deer', 2: 'moose', 3: 'squirrel', 4: 'rodent', 5: 'small_mammal', \\\n",
        "                6: 'elk', 7: 'pronghorn_antelope', 8: 'rabbit', 9: 'bighorn_sheep', 10: 'fox', 11: 'coyote', \\\n",
        "                12: 'black_bear', 13: 'raccoon', 14: 'skunk', 15: 'wolf', 16: 'bobcat', 17: 'cat',\\\n",
        "                18: 'dog', 19: 'opossum', 20: 'bison', 21: 'mountain_goat', 22: 'mountain_lion'}\n",
        "CLAHE = cv2.createCLAHE(clipLimit=2.0,tileGridSize=(8,8))\n",
        "ANNONATIONS_URL = \"https://lilablobssc.blob.core.windows.net/iwildcam2019/iWildCam_2019_Annotations.tar.gz\"\n",
        "DETECTION_URL = \"https://github.com/microsoft/CameraTraps/releases/download/v5.0/md_v5b.0.0.pt\""
      ],
      "metadata": {
        "id": "ZSBxzw4B65VJ"
      },
      "execution_count": null,
      "outputs": []
    },
    {
      "cell_type": "code",
      "source": [
        "### Load train.csv:\n",
        "trainDf = pd.read_csv(BASE_PATH + \"train.csv\")\n",
        "\n",
        "# Example:\n",
        "ex = trainDf[trainDf[\"file_name\"] == \"5998cfa4-23d2-11e8-a6a3-ec086b02610b.jpg\"]\n",
        "int(ex[\"category_id\"].values)"
      ],
      "metadata": {
        "colab": {
          "base_uri": "https://localhost:8080/"
        },
        "id": "CfoC4DhT65Ss",
        "outputId": "06c86db8-c87b-4b2b-b63a-2242cb69bdb9"
      },
      "execution_count": null,
      "outputs": [
        {
          "output_type": "execute_result",
          "data": {
            "text/plain": [
              "19"
            ]
          },
          "metadata": {},
          "execution_count": 5
        }
      ]
    },
    {
      "cell_type": "code",
      "source": [
        "\"\"\"\n",
        "### Extract training images:\n",
        "zipPath = \"/content/gdrive/MyDrive/iwildcam-2019-fgvc6.zip\"\n",
        "!unzip -j $zipPath \"train_images.zip\"\n",
        "\n",
        "savePath = BASE_PATH + '_TRAIN_UNZIPPED'\n",
        "\n",
        "if not os.path.exists(savePath):\n",
        "  os.mkdir(savePath)\n",
        "\n",
        "#savePath = '_DATA'\n",
        "\n",
        "#if not os.path.exists(savePath):\n",
        "#  os.mkdir(savePath)\n",
        "\n",
        "!unzip \"train_images.zip\"\n",
        "\"\"\" "
      ],
      "metadata": {
        "colab": {
          "base_uri": "https://localhost:8080/",
          "height": 70
        },
        "id": "4ynWwRsT65QP",
        "outputId": "9f37351f-9827-4682-e1b5-dd787644c4b4"
      },
      "execution_count": null,
      "outputs": [
        {
          "output_type": "execute_result",
          "data": {
            "text/plain": [
              "'\\n### Extract training images:\\nzipPath = \"/content/gdrive/MyDrive/iwildcam-2019-fgvc6.zip\"\\n!unzip -j $zipPath \"train_images.zip\"\\n\\nsavePath = BASE_PATH + \\'_TRAIN_UNZIPPED\\'\\n\\nif not os.path.exists(savePath):\\n  os.mkdir(savePath)\\n\\n#savePath = \\'_DATA\\'\\n\\n#if not os.path.exists(savePath):\\n#  os.mkdir(savePath)\\n\\n!unzip \"train_images.zip\"\\n'"
            ],
            "application/vnd.google.colaboratory.intrinsic+json": {
              "type": "string"
            }
          },
          "metadata": {},
          "execution_count": 6
        }
      ]
    },
    {
      "cell_type": "code",
      "source": [
        "\"\"\"\n",
        "for file in os.listdir('.'): # Files in current working dir\n",
        "   print(file)\n",
        "   if file.endswith('.jpg'):\n",
        "    os.rename(file, '_DATA/' + file) \n",
        "\"\"\""
      ],
      "metadata": {
        "colab": {
          "base_uri": "https://localhost:8080/",
          "height": 52
        },
        "id": "_uFOwn0k65Lx",
        "outputId": "c6acb625-186c-4de0-c6a0-3d5d66883538"
      },
      "execution_count": null,
      "outputs": [
        {
          "output_type": "execute_result",
          "data": {
            "text/plain": [
              "\"\\nfor file in os.listdir('.'): # Files in current working dir\\n   print(file)\\n   if file.endswith('.jpg'):\\n    os.rename(file, '_DATA/' + file) \\n\""
            ],
            "application/vnd.google.colaboratory.intrinsic+json": {
              "type": "string"
            }
          },
          "metadata": {},
          "execution_count": 7
        }
      ]
    },
    {
      "cell_type": "code",
      "source": [
        "\"\"\"\n",
        "### Pre-processing the training images:\n",
        "savePath = BASE_PATH + '_TRAIN_PROCESSED'\n",
        "if not os.path.exists(savePath):\n",
        "  os.mkdir(savePath)\n",
        "\n",
        "path = '_DATA'\n",
        "imgNames = os.listdir(path)\n",
        "\n",
        "for imgName in imgNames:\n",
        "  imgPath = path + '/' + imgName\n",
        "  img = cv2.imread(imgPath)\n",
        "\n",
        "  img = cv2.cvtColor(img, cv2.COLOR_BGR2LAB)  # Convert to LAB to seperate luminance and chrominance\n",
        "  img[:,:,0] = CLAHE.apply(img[:,:,0]) # Apply CLAHE the luminance (L) channel\n",
        "  img = cv2.cvtColor(img, cv2.COLOR_LAB2RGB) # Convert image back to RGB\n",
        "\n",
        "  #TODO: Denoise, WB\n",
        "\n",
        "  finalSavePath = savePath + '/' + imgName\n",
        "  cv2.imwrite(finalSavePath, img)\n",
        "  \"\"\""
      ],
      "metadata": {
        "id": "lODWeTP365D7"
      },
      "execution_count": null,
      "outputs": []
    },
    {
      "cell_type": "code",
      "source": [
        "path = BASE_PATH + '_TRAIN_PROCESSED/'\n",
        "imgNames = os.listdir(path)\n",
        "\n",
        "for imgName in imgNames:\n",
        "  os.rename(path + imgName, path + imgName[10:])"
      ],
      "metadata": {
        "colab": {
          "base_uri": "https://localhost:8080/",
          "height": 201
        },
        "id": "tmTAg4O14_Pc",
        "outputId": "c164c0df-6a60-46f8-d900-acbe8bb37a54"
      },
      "execution_count": null,
      "outputs": [
        {
          "output_type": "error",
          "ename": "KeyboardInterrupt",
          "evalue": "ignored",
          "traceback": [
            "\u001b[0;31m---------------------------------------------------------------------------\u001b[0m",
            "\u001b[0;31mKeyboardInterrupt\u001b[0m                         Traceback (most recent call last)",
            "\u001b[0;32m<ipython-input-6-8d358a603e33>\u001b[0m in \u001b[0;36m<module>\u001b[0;34m\u001b[0m\n\u001b[1;32m      3\u001b[0m \u001b[0;34m\u001b[0m\u001b[0m\n\u001b[1;32m      4\u001b[0m \u001b[0;32mfor\u001b[0m \u001b[0mimgName\u001b[0m \u001b[0;32min\u001b[0m \u001b[0mimgNames\u001b[0m\u001b[0;34m:\u001b[0m\u001b[0;34m\u001b[0m\u001b[0;34m\u001b[0m\u001b[0m\n\u001b[0;32m----> 5\u001b[0;31m   \u001b[0mos\u001b[0m\u001b[0;34m.\u001b[0m\u001b[0mrename\u001b[0m\u001b[0;34m(\u001b[0m\u001b[0mpath\u001b[0m \u001b[0;34m+\u001b[0m \u001b[0mimgName\u001b[0m\u001b[0;34m,\u001b[0m \u001b[0mpath\u001b[0m \u001b[0;34m+\u001b[0m \u001b[0mimgName\u001b[0m\u001b[0;34m[\u001b[0m\u001b[0;36m10\u001b[0m\u001b[0;34m:\u001b[0m\u001b[0;34m]\u001b[0m\u001b[0;34m)\u001b[0m\u001b[0;34m\u001b[0m\u001b[0;34m\u001b[0m\u001b[0m\n\u001b[0m",
            "\u001b[0;31mKeyboardInterrupt\u001b[0m: "
          ]
        }
      ]
    },
    {
      "cell_type": "code",
      "source": [
        "imgNames = os.listdir(BASE_PATH + '_TRAIN_PROCESSED')\n",
        "\n",
        "for imgName in imgNames:\n",
        "  imgData = trainDf[trainDf[\"file_name\"] == imgName]\n",
        "  imgCategory = int(imgData[\"category_id\"].values)\n",
        "  \n",
        "  if imgCategory == 0:\n",
        "    rndNum = np.random.randint(0, 4)\n",
        "\n",
        "    if rndNum != 3: # 1/4 Probability to KEEP an image of class 'empty'\n",
        "      os.remove(BASE_PATH + '_TRAIN_PROCESSED/' + imgName)\n",
        "\n"
      ],
      "metadata": {
        "id": "F474O1vTyASu"
      },
      "execution_count": null,
      "outputs": []
    },
    {
      "cell_type": "code",
      "source": [
        "### Prequisits for running Megadetector:\n",
        "#wget.download(DETECTION_URL) # Download Megadetector v5.0b\n",
        "\n",
        "# Git clones and checkout:\n",
        "!git clone https://github.com/microsoft/CameraTraps\n",
        "!git clone https://github.com/microsoft/ai4eutils\n",
        "!git clone https://github.com/ultralytics/yolov5/\n",
        "!cd yolov5 && git checkout c23a441c9df7ca9b1f275e8c8719c949269160d1\n",
        "\n",
        "# Add paths to PYTHONPATH:\n",
        "os.environ['PYTHONPATH'] += \":/content/ai4eutils\"\n",
        "os.environ['PYTHONPATH'] += \":/content/CameraTraps\"\n",
        "os.environ['PYTHONPATH'] += \":/content/yolov5\"\n",
        "\n",
        "# Arguments for run_detector_batch:\n",
        "imageDir = BASE_PATH + '_TRAIN_PROCESSED'\n",
        "jsonOutputPath = BASE_PATH + 'megaDetectorJson2.json'\n",
        "\n",
        "### Running MegaDetector:\n",
        "!python CameraTraps/detection/run_detector_batch.py md_v5b.0.0.pt $imageDir $jsonOutputPath --recursive --output_relative_filenames --quiet"
      ],
      "metadata": {
        "colab": {
          "base_uri": "https://localhost:8080/"
        },
        "id": "23RQsp9muDQF",
        "outputId": "e6aa4488-b0b8-4939-f276-58d71ce30319"
      },
      "execution_count": null,
      "outputs": [
        {
          "output_type": "stream",
          "name": "stdout",
          "text": [
            "Cloning into 'CameraTraps'...\n",
            "remote: Enumerating objects: 14633, done.\u001b[K\n",
            "remote: Counting objects: 100% (1555/1555), done.\u001b[K\n",
            "remote: Compressing objects: 100% (606/606), done.\u001b[K\n",
            "remote: Total 14633 (delta 1012), reused 1480 (delta 948), pack-reused 13078\n",
            "Receiving objects: 100% (14633/14633), 169.70 MiB | 18.58 MiB/s, done.\n",
            "Resolving deltas: 100% (8833/8833), done.\n",
            "Cloning into 'ai4eutils'...\n",
            "remote: Enumerating objects: 778, done.\u001b[K\n",
            "remote: Counting objects: 100% (84/84), done.\u001b[K\n",
            "remote: Compressing objects: 100% (50/50), done.\u001b[K\n",
            "remote: Total 778 (delta 48), reused 45 (delta 34), pack-reused 694\u001b[K\n",
            "Receiving objects: 100% (778/778), 2.59 MiB | 20.06 MiB/s, done.\n",
            "Resolving deltas: 100% (463/463), done.\n",
            "Cloning into 'yolov5'...\n",
            "remote: Enumerating objects: 15287, done.\u001b[K\n",
            "remote: Counting objects: 100% (51/51), done.\u001b[K\n",
            "remote: Compressing objects: 100% (45/45), done.\u001b[K\n",
            "remote: Total 15287 (delta 21), reused 29 (delta 6), pack-reused 15236\u001b[K\n",
            "Receiving objects: 100% (15287/15287), 14.18 MiB | 4.36 MiB/s, done.\n",
            "Resolving deltas: 100% (10477/10477), done.\n",
            "Note: switching to 'c23a441c9df7ca9b1f275e8c8719c949269160d1'.\n",
            "\n",
            "You are in 'detached HEAD' state. You can look around, make experimental\n",
            "changes and commit them, and you can discard any commits you make in this\n",
            "state without impacting any branches by switching back to a branch.\n",
            "\n",
            "If you want to create a new branch to retain commits you create, you may\n",
            "do so (now or later) by using -c with the switch command. Example:\n",
            "\n",
            "  git switch -c <new-branch-name>\n",
            "\n",
            "Or undo this operation with:\n",
            "\n",
            "  git switch -\n",
            "\n",
            "Turn off this advice by setting config variable advice.detachedHead to false\n",
            "\n",
            "HEAD is now at c23a441 Improved `dataset_stats()` YAML checks (#8125)\n",
            "Traceback (most recent call last):\n",
            "  File \"/usr/lib/python3.8/glob.py\", line 123, in _iterdir\n",
            "    with os.scandir(dirname) as it:\n",
            "OSError: [Errno 5] Input/output error: '/content/gdrive/MyDrive/Data_Mining/_TRAIN_PROCESSED/'\n",
            "\n",
            "During handling of the above exception, another exception occurred:\n",
            "\n",
            "Traceback (most recent call last):\n",
            "  File \"CameraTraps/detection/run_detector_batch.py\", line 772, in <module>\n",
            "    main()\n",
            "  File \"CameraTraps/detection/run_detector_batch.py\", line 671, in main\n",
            "    image_file_names = ImagePathUtils.find_images(args.image_file, args.recursive)\n",
            "  File \"/content/CameraTraps/detection/run_detector.py\", line 148, in find_images\n",
            "    strings = glob.glob(os.path.join(dir_name, '**', '*.*'), recursive=True)\n",
            "  File \"/usr/lib/python3.8/glob.py\", line 21, in glob\n",
            "    return list(iglob(pathname, recursive=recursive))\n",
            "  File \"/usr/lib/python3.8/glob.py\", line 74, in _iglob\n",
            "    for name in glob_in_dir(dirname, basename, dironly):\n",
            "  File \"/usr/lib/python3.8/glob.py\", line 82, in _glob1\n",
            "    names = list(_iterdir(dirname, dironly))\n",
            "  File \"/usr/lib/python3.8/glob.py\", line 123, in _iterdir\n",
            "    with os.scandir(dirname) as it:\n",
            "KeyboardInterrupt\n",
            "^C\n"
          ]
        }
      ]
    },
    {
      "cell_type": "code",
      "source": [],
      "metadata": {
        "id": "xLcKLVTZvNBE"
      },
      "execution_count": null,
      "outputs": []
    },
    {
      "cell_type": "code",
      "source": [],
      "metadata": {
        "id": "x7ncRSOyvM-E"
      },
      "execution_count": null,
      "outputs": []
    },
    {
      "cell_type": "code",
      "source": [],
      "metadata": {
        "id": "dofHW0TdvM7c"
      },
      "execution_count": null,
      "outputs": []
    }
  ]
}